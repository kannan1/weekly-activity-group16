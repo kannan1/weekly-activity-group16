{
 "cells": [
  {
   "cell_type": "code",
   "execution_count": 1,
   "id": "89f4c3fc",
   "metadata": {},
   "outputs": [],
   "source": [
    "import pandas as pd\n",
    "import matplotlib.pyplot as plt\n",
    "import numpy as np\n",
    "import seaborn as sns\n",
    "import scipy.stats as stats"
   ]
  },
  {
   "cell_type": "markdown",
   "id": "68a5952b",
   "metadata": {},
   "source": [
    "# 1. Explain the dataset"
   ]
  },
  {
   "cell_type": "code",
   "execution_count": 4,
   "id": "8207a572",
   "metadata": {},
   "outputs": [
    {
     "data": {
      "text/html": [
       "<div>\n",
       "<style scoped>\n",
       "    .dataframe tbody tr th:only-of-type {\n",
       "        vertical-align: middle;\n",
       "    }\n",
       "\n",
       "    .dataframe tbody tr th {\n",
       "        vertical-align: top;\n",
       "    }\n",
       "\n",
       "    .dataframe thead th {\n",
       "        text-align: right;\n",
       "    }\n",
       "</style>\n",
       "<table border=\"1\" class=\"dataframe\">\n",
       "  <thead>\n",
       "    <tr style=\"text-align: right;\">\n",
       "      <th></th>\n",
       "      <th>Unnamed: 0</th>\n",
       "      <th>TV</th>\n",
       "      <th>Radio</th>\n",
       "      <th>Newspaper</th>\n",
       "      <th>Sales</th>\n",
       "    </tr>\n",
       "  </thead>\n",
       "  <tbody>\n",
       "    <tr>\n",
       "      <th>0</th>\n",
       "      <td>1</td>\n",
       "      <td>230.1</td>\n",
       "      <td>37.8</td>\n",
       "      <td>69.2</td>\n",
       "      <td>22.1</td>\n",
       "    </tr>\n",
       "    <tr>\n",
       "      <th>1</th>\n",
       "      <td>2</td>\n",
       "      <td>44.5</td>\n",
       "      <td>39.3</td>\n",
       "      <td>45.1</td>\n",
       "      <td>10.4</td>\n",
       "    </tr>\n",
       "    <tr>\n",
       "      <th>2</th>\n",
       "      <td>3</td>\n",
       "      <td>17.2</td>\n",
       "      <td>45.9</td>\n",
       "      <td>69.3</td>\n",
       "      <td>9.3</td>\n",
       "    </tr>\n",
       "    <tr>\n",
       "      <th>3</th>\n",
       "      <td>4</td>\n",
       "      <td>151.5</td>\n",
       "      <td>41.3</td>\n",
       "      <td>58.5</td>\n",
       "      <td>18.5</td>\n",
       "    </tr>\n",
       "    <tr>\n",
       "      <th>4</th>\n",
       "      <td>5</td>\n",
       "      <td>180.8</td>\n",
       "      <td>10.8</td>\n",
       "      <td>58.4</td>\n",
       "      <td>12.9</td>\n",
       "    </tr>\n",
       "  </tbody>\n",
       "</table>\n",
       "</div>"
      ],
      "text/plain": [
       "   Unnamed: 0     TV  Radio  Newspaper  Sales\n",
       "0           1  230.1   37.8       69.2   22.1\n",
       "1           2   44.5   39.3       45.1   10.4\n",
       "2           3   17.2   45.9       69.3    9.3\n",
       "3           4  151.5   41.3       58.5   18.5\n",
       "4           5  180.8   10.8       58.4   12.9"
      ]
     },
     "execution_count": 4,
     "metadata": {},
     "output_type": "execute_result"
    }
   ],
   "source": [
    "#Reading data into python environment\n",
    "data=pd.read_csv('Advertising.csv')\n",
    "data.head()"
   ]
  },
  {
   "cell_type": "code",
   "execution_count": 5,
   "id": "9e87125b",
   "metadata": {},
   "outputs": [
    {
     "name": "stdout",
     "output_type": "stream",
     "text": [
      "<class 'pandas.core.frame.DataFrame'>\n",
      "RangeIndex: 200 entries, 0 to 199\n",
      "Data columns (total 5 columns):\n",
      " #   Column      Non-Null Count  Dtype  \n",
      "---  ------      --------------  -----  \n",
      " 0   Unnamed: 0  200 non-null    int64  \n",
      " 1   TV          200 non-null    float64\n",
      " 2   Radio       200 non-null    float64\n",
      " 3   Newspaper   200 non-null    float64\n",
      " 4   Sales       200 non-null    float64\n",
      "dtypes: float64(4), int64(1)\n",
      "memory usage: 7.9 KB\n"
     ]
    }
   ],
   "source": [
    "data.info()"
   ]
  },
  {
   "cell_type": "markdown",
   "id": "fe05fce0",
   "metadata": {},
   "source": [
    "# visualizations"
   ]
  },
  {
   "cell_type": "code",
   "execution_count": 39,
   "id": "8234de34",
   "metadata": {},
   "outputs": [
    {
     "data": {
      "text/plain": [
       "Text(0.5, 1.0, 'Distribution of TV advertisements')"
      ]
     },
     "execution_count": 39,
     "metadata": {},
     "output_type": "execute_result"
    },
    {
     "data": {
      "image/png": "[encoded data removed]",
      "text/plain": [
       "<Figure size 432x288 with 1 Axes>"
      ]
     },
     "metadata": {
      "needs_background": "light"
     },
     "output_type": "display_data"
    }
   ],
   "source": [
    "plt.hist(data['TV'],rwidth=0.8)\n",
    "plt.title('Distribution of TV advertisements')"
   ]
  },
  {
   "cell_type": "code",
   "execution_count": 38,
   "id": "db566b09",
   "metadata": {},
   "outputs": [
    {
     "data": {
      "text/plain": [
       "Text(0.5, 1.0, 'Distribution of Radio advertisements')"
      ]
     },
     "execution_count": 38,
     "metadata": {},
     "output_type": "execute_result"
    },
    {
     "data": {
      "image/png": "[encoded data removed]",
      "text/plain": [
       "<Figure size 432x288 with 1 Axes>"
      ]
     },
     "metadata": {
      "needs_background": "light"
     },
     "output_type": "display_data"
    }
   ],
   "source": [
    "plt.hist(data['Radio'],rwidth=0.8)\n",
    "plt.title('Distribution of Radio advertisements')"
   ]
  },
  {
   "cell_type": "code",
   "execution_count": 37,
   "id": "d82b52ec",
   "metadata": {},
   "outputs": [
    {
     "data": {
      "text/plain": [
       "Text(0.5, 1.0, 'Distribution of Newspaper advertisements')"
      ]
     },
     "execution_count": 37,
     "metadata": {},
     "output_type": "execute_result"
    },
    {
     "data": {
      "image/png": "[encoded data removed]",
      "text/plain": [
       "<Figure size 432x288 with 1 Axes>"
      ]
     },
     "metadata": {
      "needs_background": "light"
     },
     "output_type": "display_data"
    }
   ],
   "source": [
    "plt.hist(data['Newspaper'], rwidth=0.8)\n",
    "plt.title('Distribution of Newspaper advertisements')"
   ]
  },
  {
   "cell_type": "code",
   "execution_count": 36,
   "id": "ae72a7c4",
   "metadata": {},
   "outputs": [
    {
     "data": {
      "text/plain": [
       "Text(0.5, 1.0, 'Distribution of Sales')"
      ]
     },
     "execution_count": 36,
     "metadata": {},
     "output_type": "execute_result"
    },
    {
     "data": {
      "image/png": "[encoded data removed]",
      "text/plain": [
       "<Figure size 432x288 with 1 Axes>"
      ]
     },
     "metadata": {
      "needs_background": "light"
     },
     "output_type": "display_data"
    }
   ],
   "source": [
    "plt.hist(data['Sales'], rwidth=0.8)\n",
    "plt.title('Distribution of Sales')"
   ]
  },
  {
   "cell_type": "markdown",
   "id": "e8e23cfe",
   "metadata": {},
   "source": [
    "Data set cosists of 200 rows and 5 columns.\n",
    "\n",
    "There are no null values in the data set.\n",
    "\n",
    "Sales is normally distributed while that of Newspaper advertisement is right skewed"
   ]
  },
  {
   "cell_type": "markdown",
   "id": "a28cd69e",
   "metadata": {},
   "source": [
    "# 2. Check the summary statistics and discuss the max, min, avg, median,and percentiles."
   ]
  },
  {
   "cell_type": "code",
   "execution_count": 8,
   "id": "2044ae63",
   "metadata": {},
   "outputs": [
    {
     "data": {
      "text/html": [
       "<div>\n",
       "<style scoped>\n",
       "    .dataframe tbody tr th:only-of-type {\n",
       "        vertical-align: middle;\n",
       "    }\n",
       "\n",
       "    .dataframe tbody tr th {\n",
       "        vertical-align: top;\n",
       "    }\n",
       "\n",
       "    .dataframe thead th {\n",
       "        text-align: right;\n",
       "    }\n",
       "</style>\n",
       "<table border=\"1\" class=\"dataframe\">\n",
       "  <thead>\n",
       "    <tr style=\"text-align: right;\">\n",
       "      <th></th>\n",
       "      <th>Unnamed: 0</th>\n",
       "      <th>TV</th>\n",
       "      <th>Radio</th>\n",
       "      <th>Newspaper</th>\n",
       "      <th>Sales</th>\n",
       "    </tr>\n",
       "  </thead>\n",
       "  <tbody>\n",
       "    <tr>\n",
       "      <th>count</th>\n",
       "      <td>200.000000</td>\n",
       "      <td>200.000000</td>\n",
       "      <td>200.000000</td>\n",
       "      <td>200.000000</td>\n",
       "      <td>200.000000</td>\n",
       "    </tr>\n",
       "    <tr>\n",
       "      <th>mean</th>\n",
       "      <td>100.500000</td>\n",
       "      <td>147.042500</td>\n",
       "      <td>23.264000</td>\n",
       "      <td>30.554000</td>\n",
       "      <td>14.022500</td>\n",
       "    </tr>\n",
       "    <tr>\n",
       "      <th>std</th>\n",
       "      <td>57.879185</td>\n",
       "      <td>85.854236</td>\n",
       "      <td>14.846809</td>\n",
       "      <td>21.778621</td>\n",
       "      <td>5.217457</td>\n",
       "    </tr>\n",
       "    <tr>\n",
       "      <th>min</th>\n",
       "      <td>1.000000</td>\n",
       "      <td>0.700000</td>\n",
       "      <td>0.000000</td>\n",
       "      <td>0.300000</td>\n",
       "      <td>1.600000</td>\n",
       "    </tr>\n",
       "    <tr>\n",
       "      <th>25%</th>\n",
       "      <td>50.750000</td>\n",
       "      <td>74.375000</td>\n",
       "      <td>9.975000</td>\n",
       "      <td>12.750000</td>\n",
       "      <td>10.375000</td>\n",
       "    </tr>\n",
       "    <tr>\n",
       "      <th>50%</th>\n",
       "      <td>100.500000</td>\n",
       "      <td>149.750000</td>\n",
       "      <td>22.900000</td>\n",
       "      <td>25.750000</td>\n",
       "      <td>12.900000</td>\n",
       "    </tr>\n",
       "    <tr>\n",
       "      <th>75%</th>\n",
       "      <td>150.250000</td>\n",
       "      <td>218.825000</td>\n",
       "      <td>36.525000</td>\n",
       "      <td>45.100000</td>\n",
       "      <td>17.400000</td>\n",
       "    </tr>\n",
       "    <tr>\n",
       "      <th>max</th>\n",
       "      <td>200.000000</td>\n",
       "      <td>296.400000</td>\n",
       "      <td>49.600000</td>\n",
       "      <td>114.000000</td>\n",
       "      <td>27.000000</td>\n",
       "    </tr>\n",
       "  </tbody>\n",
       "</table>\n",
       "</div>"
      ],
      "text/plain": [
       "       Unnamed: 0          TV       Radio   Newspaper       Sales\n",
       "count  200.000000  200.000000  200.000000  200.000000  200.000000\n",
       "mean   100.500000  147.042500   23.264000   30.554000   14.022500\n",
       "std     57.879185   85.854236   14.846809   21.778621    5.217457\n",
       "min      1.000000    0.700000    0.000000    0.300000    1.600000\n",
       "25%     50.750000   74.375000    9.975000   12.750000   10.375000\n",
       "50%    100.500000  149.750000   22.900000   25.750000   12.900000\n",
       "75%    150.250000  218.825000   36.525000   45.100000   17.400000\n",
       "max    200.000000  296.400000   49.600000  114.000000   27.000000"
      ]
     },
     "execution_count": 8,
     "metadata": {},
     "output_type": "execute_result"
    }
   ],
   "source": [
    "data.describe()"
   ]
  },
  {
   "cell_type": "markdown",
   "id": "78b18019",
   "metadata": {},
   "source": [
    "# Mean"
   ]
  },
  {
   "cell_type": "markdown",
   "id": "0cd94b2b",
   "metadata": {},
   "source": [
    "Average amount spent on : \n",
    "\n",
    "    1.TV        = 147.042500\n",
    "    2.Radio     = 23.264000\n",
    "    3.Newspaper = 30.5540"
   ]
  },
  {
   "cell_type": "markdown",
   "id": "2bc962e3",
   "metadata": {},
   "source": [
    "# Median"
   ]
  },
  {
   "cell_type": "code",
   "execution_count": 9,
   "id": "88d77506",
   "metadata": {},
   "outputs": [
    {
     "name": "stdout",
     "output_type": "stream",
     "text": [
      "Median of amount spent on TV advertisement =  149.75\n",
      "Median of amount spent on Radio advertisement =  22.9\n",
      "Median of amount spent on Newspaper advertisement =  25.75\n"
     ]
    }
   ],
   "source": [
    "print('Median of amount spent on TV advertisement = ',data['TV'].median())\n",
    "print('Median of amount spent on Radio advertisement = ',data['Radio'].median())\n",
    "print('Median of amount spent on Newspaper advertisement = ',data['Newspaper'].median())"
   ]
  },
  {
   "cell_type": "markdown",
   "id": "8908446d",
   "metadata": {},
   "source": [
    "# Maximun Amounts"
   ]
  },
  {
   "cell_type": "markdown",
   "id": "bf573757",
   "metadata": {},
   "source": [
    "Maximum amount spent on : \n",
    "\n",
    "    1.TV        = 296.40\n",
    "    2.Radio     = 49.60\n",
    "    3.Newspaper = 114.00"
   ]
  },
  {
   "cell_type": "markdown",
   "id": "939f0b20",
   "metadata": {},
   "source": [
    "# Minimum Amounts"
   ]
  },
  {
   "cell_type": "markdown",
   "id": "75b04bb0",
   "metadata": {},
   "source": [
    "Minimum amount spent on :\n",
    "\n",
    "1.TV        = 0.700\n",
    "2.Radio     = 0.000\n",
    "3.Newspaper = 0.300"
   ]
  },
  {
   "cell_type": "markdown",
   "id": "01bdb288",
   "metadata": {},
   "source": [
    "# Percentiles"
   ]
  },
  {
   "cell_type": "code",
   "execution_count": 14,
   "id": "426f49de",
   "metadata": {},
   "outputs": [
    {
     "name": "stdout",
     "output_type": "stream",
     "text": [
      "25th percentile of amount spent on Tv advertisement =  74.375\n",
      "50th percentile of amount spent on Tv advertisement =  149.75\n",
      "75th percentile of amount spent on Tv advertisement =  218.825\n",
      "\n",
      "\n",
      "25th percentile of amount spent on Radio advertisement =  9.975\n",
      "50th percentile of amount spent on Radio advertisement =  22.9\n",
      "75th percentile of amount spent on Radio advertisement =  36.525\n",
      "\n",
      "\n",
      "25th percentile of amount spent on Newspaper advertisement =  12.75\n",
      "50th percentile of amount spent on Newspaper advertisement =  25.75\n",
      "75th percentile of amount spent on Newspaper advertisement =  45.1\n"
     ]
    }
   ],
   "source": [
    "print('25th percentile of amount spent on Tv advertisement = ',np.percentile(data['TV'], 25))\n",
    "print('50th percentile of amount spent on Tv advertisement = ',np.percentile(data['TV'], 50))\n",
    "print('75th percentile of amount spent on Tv advertisement = ',np.percentile(data['TV'], 75))\n",
    "\n",
    "print('\\n\\n25th percentile of amount spent on Radio advertisement = ',np.percentile(data['Radio'], 25))\n",
    "print('50th percentile of amount spent on Radio advertisement = ',np.percentile(data['Radio'], 50))\n",
    "print('75th percentile of amount spent on Radio advertisement = ',np.percentile(data['Radio'], 75))\n",
    "\n",
    "print('\\n\\n25th percentile of amount spent on Newspaper advertisement = ',np.percentile(data['Newspaper'], 25))\n",
    "print('50th percentile of amount spent on Newspaper advertisement = ',np.percentile(data['Newspaper'], 50))\n",
    "print('75th percentile of amount spent on Newspaper advertisement = ',np.percentile(data['Newspaper'], 75))"
   ]
  },
  {
   "cell_type": "markdown",
   "id": "ae963228",
   "metadata": {},
   "source": [
    "# 3.Find out whether the same amount was spent for the three advertisements (TV , Radio and Newspaper)."
   ]
  },
  {
   "cell_type": "markdown",
   "id": "8fed4268",
   "metadata": {},
   "source": [
    "# Using one way ANOVA"
   ]
  },
  {
   "cell_type": "markdown",
   "id": "d3694460",
   "metadata": {},
   "source": [
    "Null Hypothesis,H0 : Same amount was spent on all 3 advertisements\n",
    "    \n",
    "Alternate Hypothesis, H1 : Amount spent on atleast one advertisement is different"
   ]
  },
  {
   "cell_type": "code",
   "execution_count": 23,
   "id": "7af95664",
   "metadata": {},
   "outputs": [],
   "source": [
    "#numerator degrees of freedom (k-1) = (3-1) = 2\n",
    "dfn=2\n",
    "#denominator degrees of freedom(N-k) = (3*200-3) = 597\n",
    "dfd=597\n",
    "alpha=.05"
   ]
  },
  {
   "cell_type": "code",
   "execution_count": 24,
   "id": "fd63a4ec",
   "metadata": {},
   "outputs": [
    {
     "name": "stdout",
     "output_type": "stream",
     "text": [
      "Critical F - value =  3.010815204196057\n"
     ]
    }
   ],
   "source": [
    "f_critical=stats.f.ppf(q=.95,dfn=2,dfd=597)\n",
    "print('Critical F - value = ',f_critical)"
   ]
  },
  {
   "cell_type": "code",
   "execution_count": 25,
   "id": "8b656e79",
   "metadata": {},
   "outputs": [],
   "source": [
    "f_value,p_value=stats.f_oneway(data['TV'],data['Radio'],data['Newspaper'])"
   ]
  },
  {
   "cell_type": "code",
   "execution_count": 26,
   "id": "2dacb16f",
   "metadata": {},
   "outputs": [
    {
     "name": "stdout",
     "output_type": "stream",
     "text": [
      "Calculate F-value =  358.8514595342597\n",
      "P-value =  0.0\n"
     ]
    }
   ],
   "source": [
    "print('Calculate F-value = ',f_value)\n",
    "print('P-value = ',round(p_value,7))"
   ]
  },
  {
   "cell_type": "code",
   "execution_count": 40,
   "id": "81786666",
   "metadata": {},
   "outputs": [
    {
     "data": {
      "text/plain": [
       "False"
      ]
     },
     "execution_count": 40,
     "metadata": {},
     "output_type": "execute_result"
    }
   ],
   "source": [
    "f_critical>f_value"
   ]
  },
  {
   "cell_type": "code",
   "execution_count": 41,
   "id": "817cf721",
   "metadata": {},
   "outputs": [
    {
     "data": {
      "text/plain": [
       "False"
      ]
     },
     "execution_count": 41,
     "metadata": {},
     "output_type": "execute_result"
    }
   ],
   "source": [
    "p_value>alpha"
   ]
  },
  {
   "cell_type": "markdown",
   "id": "89e40fb3",
   "metadata": {},
   "source": [
    "# Interpretation :"
   ]
  },
  {
   "cell_type": "markdown",
   "id": "5081a6f0",
   "metadata": {},
   "source": [
    "The F test statistic is 358.85 and the corresponding p-value is 0.00. Since the p-value is  less than .05 and Caculated F-value is greater than critical F-value (3.010) we are forced to reject the null hypothesis (H0).\n",
    "\n",
    "We can infer that mean of atleast one column is different ,ie, the amount spent on atleast one advertisement is different"
   ]
  }
 ],
 "metadata": {
  "kernelspec": {
   "display_name": "Python 3",
   "language": "python",
   "name": "python3"
  },
  "language_info": {
   "codemirror_mode": {
    "name": "ipython",
    "version": 3
   },
   "file_extension": ".py",
   "mimetype": "text/x-python",
   "name": "python",
   "nbconvert_exporter": "python",
   "pygments_lexer": "ipython3",
   "version": "3.8.8"
  }
 },
 "nbformat": 4,
 "nbformat_minor": 5
}
